{
 "cells": [
  {
   "cell_type": "code",
   "execution_count": 2,
   "id": "stretch-angel",
   "metadata": {},
   "outputs": [],
   "source": [
    "#import packages\n",
    "import os\n",
    "os.environ['CUDA_LAUNCH_BLOCKING'] = \"1\"\n",
    "\n",
    "import numpy as np\n",
    "import pandas as pd\n",
    "import math\n",
    "import scipy.spatial.distance as distance\n",
    "import os.path\n",
    "import csv\n",
    "import glob\n",
    "import h5py as h5py\n",
    "import cv2\n",
    "import imageio\n",
    "import matplotlib.pyplot as plt\n",
    "from mlxtend.image import extract_face_landmarks\n",
    "\n",
    "import torch\n",
    "import torch.nn as nn\n",
    "import torch.nn.functional as F\n",
    "from torch import optim\n",
    "from torchvision import transforms\n",
    "from torch.utils.data import Dataset, DataLoader\n",
    "\n",
    "from sklearn.model_selection import train_test_split\n",
    "from sklearn.neighbors import KNeighborsClassifier\n",
    "from sklearn.ensemble import RandomForestClassifier\n",
    "from sklearn.svm import SVC\n",
    "from sklearn.metrics import accuracy_score, f1_score, roc_curve, roc_auc_score\n",
    "\n",
    "from shutil import copy\n",
    "\n",
    "import re\n",
    "from matplotlib.pyplot import imshow\n",
    "from PIL import Image\n",
    "\n",
    "%matplotlib inline"
   ]
  },
  {
   "cell_type": "code",
   "execution_count": null,
   "id": "valid-space",
   "metadata": {},
   "outputs": [],
   "source": [
    "def captureFrame(sec):\n",
    "    start = 180000\n",
    "    vidcap.set(cv2.CAP_PROP_POS_MSEC, start + sec*1000)\n",
    "    hasFrames,image = vidcap.read()\n",
    "    return hasFrames, image"
   ]
  },
  {
   "cell_type": "code",
   "execution_count": null,
   "id": "other-concord",
   "metadata": {
    "scrolled": true
   },
   "outputs": [],
   "source": [
    "data, labels = [], []\n",
    "\n",
    "for j in range(31, 37):\n",
    "    for i in range(0, 11, 5):\n",
    "        video = 'Fold3_part2/' + str(j) +'/' + str(i) + '.mp4'\n",
    "        vidcap = cv2.VideoCapture(video)        \n",
    "        sec = 0\n",
    "        frameRate = 1\n",
    "        success, image = captureFrame(sec)\n",
    "        count = 0\n",
    "        \n",
    "        while success and count < 240:\n",
    "            landmarks = extract_face_landmarks(image)\n",
    "            \n",
    "            if landmarks is not None and sum(sum(landmarks)) != 0:\n",
    "                cv2.imwrite(\"images/frame_%d_%d_%d.jpg\" % (j, i, count), image)\n",
    "                count += 1\n",
    "                data.append(landmarks)\n",
    "                labels.append([i])\n",
    "                sec = sec + frameRate\n",
    "                sec = round(sec, 2)\n",
    "                success, image = captureFrame(sec)\n",
    "            else:\n",
    "                sec = sec + frameRate\n",
    "                sec = round(sec, 2)\n",
    "                success, image = captureFrame(sec)\n",
    "                print('was not detected')\n",
    "                \n",
    "        print('Feature extraction for %s is done.' % video)"
   ]
  },
  {
   "cell_type": "code",
   "execution_count": null,
   "id": "durable-norfolk",
   "metadata": {},
   "outputs": [],
   "source": [
    "def eye_aspect_ratio(eye):\n",
    "    A = distance.euclidean(eye[1], eye[5])\n",
    "    B = distance.euclidean(eye[2], eye[4])\n",
    "    C = distance.euclidean(eye[0], eye[3])\n",
    "    ear = (A + B) / (2.0 * C)\n",
    "    return ear\n",
    "\n",
    "def mouth_aspect_ratio(mouth):\n",
    "    A = distance.euclidean(mouth[14], mouth[18])\n",
    "    C = distance.euclidean(mouth[12], mouth[16])\n",
    "    mar = (A ) / (C)\n",
    "    return mar\n",
    "\n",
    "def circularity(eye):\n",
    "    A = distance.euclidean(eye[1], eye[4])\n",
    "    radius  = A/2.0\n",
    "    Area = math.pi * (radius ** 2)\n",
    "    p = 0\n",
    "    p += distance.euclidean(eye[0], eye[1])\n",
    "    p += distance.euclidean(eye[1], eye[2])\n",
    "    p += distance.euclidean(eye[2], eye[3])\n",
    "    p += distance.euclidean(eye[3], eye[4])\n",
    "    p += distance.euclidean(eye[4], eye[5])\n",
    "    p += distance.euclidean(eye[5], eye[0])\n",
    "    return 4 * math.pi * Area /(p**2)\n",
    "\n",
    "def mouth_eye_ratio(eye):\n",
    "    mouth_ratio = mouth_aspect_ratio(eye)\n",
    "    eye_ratio = eye_aspect_ratio(eye)\n",
    "    mouthI = mouth_ratio/eye_ratio\n",
    "    return mouthI"
   ]
  },
  {
   "cell_type": "code",
   "execution_count": null,
   "id": "martial-confusion",
   "metadata": {},
   "outputs": [],
   "source": [
    "data = np.array(data)\n",
    "labels = np.array(labels)\n",
    "featureList = [] \n",
    "\n",
    "for d in data:\n",
    "    eye = d[36:68]\n",
    "    eye_ratio = eye_aspect_ratio(eye)\n",
    "    mouth_ratio = mouth_aspect_ratio(eye)\n",
    "    circ = circularity(eye)\n",
    "    mouth_eye = mouth_eye_ratio(eye)\n",
    "    featureList.append([eye_ratio, mouth_ratio, circ, mouth_eye])\n",
    "\n",
    "features = np.array(featureList)\n",
    "print(features.shape, labels.shape)"
   ]
  },
  {
   "cell_type": "code",
   "execution_count": null,
   "id": "interesting-journey",
   "metadata": {},
   "outputs": [],
   "source": [
    "# change file name to save \n",
    "np.save(open('Data.npy', 'wb'), data)\n",
    "np.save(open('Fold3_part2_features.npy', 'wb'),features)\n",
    "np.save(open('Fold3_part2_labels.npy', 'wb'),labels)\n",
    "np.savetxt(\"Fold3_part2_features.csv\", features, delimiter = \",\")\n",
    "np.savetxt(\"Fold3_part2_labels.csv\", labels, delimiter = \",\")"
   ]
  },
  {
   "cell_type": "code",
   "execution_count": 3,
   "id": "civic-father",
   "metadata": {},
   "outputs": [],
   "source": [
    "# how to load npy data file to colab\n",
    "# data = np.load('Data.npy')\n",
    "df_features = pd.read_csv(\"Fold3_part2_features.csv\", names=[\"EAR\", \"MAR\", \"Circularity\", \"MOE\"])\n",
    "df_labels = pd.read_csv(\"Fold3_part2_labels.csv\", names=[\"Y\"])"
   ]
  },
  {
   "cell_type": "code",
   "execution_count": 4,
   "id": "digital-sunrise",
   "metadata": {},
   "outputs": [
    {
     "data": {
      "text/html": [
       "<div>\n",
       "<style scoped>\n",
       "    .dataframe tbody tr th:only-of-type {\n",
       "        vertical-align: middle;\n",
       "    }\n",
       "\n",
       "    .dataframe tbody tr th {\n",
       "        vertical-align: top;\n",
       "    }\n",
       "\n",
       "    .dataframe thead th {\n",
       "        text-align: right;\n",
       "    }\n",
       "</style>\n",
       "<table border=\"1\" class=\"dataframe\">\n",
       "  <thead>\n",
       "    <tr style=\"text-align: right;\">\n",
       "      <th></th>\n",
       "      <th>EAR</th>\n",
       "      <th>MAR</th>\n",
       "      <th>Circularity</th>\n",
       "      <th>MOE</th>\n",
       "      <th>Y</th>\n",
       "    </tr>\n",
       "  </thead>\n",
       "  <tbody>\n",
       "    <tr>\n",
       "      <th>0</th>\n",
       "      <td>0.295585</td>\n",
       "      <td>0.645828</td>\n",
       "      <td>0.449215</td>\n",
       "      <td>2.184918</td>\n",
       "      <td>0.0</td>\n",
       "    </tr>\n",
       "    <tr>\n",
       "      <th>1</th>\n",
       "      <td>0.197852</td>\n",
       "      <td>0.780875</td>\n",
       "      <td>0.355239</td>\n",
       "      <td>3.946756</td>\n",
       "      <td>0.0</td>\n",
       "    </tr>\n",
       "    <tr>\n",
       "      <th>2</th>\n",
       "      <td>0.303230</td>\n",
       "      <td>0.812615</td>\n",
       "      <td>0.436240</td>\n",
       "      <td>2.679867</td>\n",
       "      <td>0.0</td>\n",
       "    </tr>\n",
       "    <tr>\n",
       "      <th>3</th>\n",
       "      <td>0.244438</td>\n",
       "      <td>0.756843</td>\n",
       "      <td>0.393171</td>\n",
       "      <td>3.096259</td>\n",
       "      <td>0.0</td>\n",
       "    </tr>\n",
       "    <tr>\n",
       "      <th>4</th>\n",
       "      <td>0.300713</td>\n",
       "      <td>0.747531</td>\n",
       "      <td>0.457257</td>\n",
       "      <td>2.485865</td>\n",
       "      <td>0.0</td>\n",
       "    </tr>\n",
       "    <tr>\n",
       "      <th>...</th>\n",
       "      <td>...</td>\n",
       "      <td>...</td>\n",
       "      <td>...</td>\n",
       "      <td>...</td>\n",
       "      <td>...</td>\n",
       "    </tr>\n",
       "    <tr>\n",
       "      <th>3595</th>\n",
       "      <td>0.163529</td>\n",
       "      <td>0.963825</td>\n",
       "      <td>0.309566</td>\n",
       "      <td>5.893894</td>\n",
       "      <td>10.0</td>\n",
       "    </tr>\n",
       "    <tr>\n",
       "      <th>3596</th>\n",
       "      <td>0.291400</td>\n",
       "      <td>0.939786</td>\n",
       "      <td>0.426871</td>\n",
       "      <td>3.225075</td>\n",
       "      <td>10.0</td>\n",
       "    </tr>\n",
       "    <tr>\n",
       "      <th>3597</th>\n",
       "      <td>0.306107</td>\n",
       "      <td>1.042561</td>\n",
       "      <td>0.428721</td>\n",
       "      <td>3.405866</td>\n",
       "      <td>10.0</td>\n",
       "    </tr>\n",
       "    <tr>\n",
       "      <th>3598</th>\n",
       "      <td>0.301756</td>\n",
       "      <td>0.958100</td>\n",
       "      <td>0.441118</td>\n",
       "      <td>3.175086</td>\n",
       "      <td>10.0</td>\n",
       "    </tr>\n",
       "    <tr>\n",
       "      <th>3599</th>\n",
       "      <td>0.333009</td>\n",
       "      <td>0.940291</td>\n",
       "      <td>0.479525</td>\n",
       "      <td>2.823621</td>\n",
       "      <td>10.0</td>\n",
       "    </tr>\n",
       "  </tbody>\n",
       "</table>\n",
       "<p>3600 rows × 5 columns</p>\n",
       "</div>"
      ],
      "text/plain": [
       "           EAR       MAR  Circularity       MOE     Y\n",
       "0     0.295585  0.645828     0.449215  2.184918   0.0\n",
       "1     0.197852  0.780875     0.355239  3.946756   0.0\n",
       "2     0.303230  0.812615     0.436240  2.679867   0.0\n",
       "3     0.244438  0.756843     0.393171  3.096259   0.0\n",
       "4     0.300713  0.747531     0.457257  2.485865   0.0\n",
       "...        ...       ...          ...       ...   ...\n",
       "3595  0.163529  0.963825     0.309566  5.893894  10.0\n",
       "3596  0.291400  0.939786     0.426871  3.225075  10.0\n",
       "3597  0.306107  1.042561     0.428721  3.405866  10.0\n",
       "3598  0.301756  0.958100     0.441118  3.175086  10.0\n",
       "3599  0.333009  0.940291     0.479525  2.823621  10.0\n",
       "\n",
       "[3600 rows x 5 columns]"
      ]
     },
     "execution_count": 4,
     "metadata": {},
     "output_type": "execute_result"
    }
   ],
   "source": [
    "df = pd.concat([pd.concat([df_features], ignore_index=True), pd.concat([df_labels], ignore_index=True)], axis=1)\n",
    "df"
   ]
  },
  {
   "cell_type": "code",
   "execution_count": 6,
   "id": "finite-likelihood",
   "metadata": {
    "scrolled": true
   },
   "outputs": [
    {
     "name": "stdout",
     "output_type": "stream",
     "text": [
      "(1480, 4) (1480,) (920, 4) (920,)\n"
     ]
    }
   ],
   "source": [
    "# pd.set_option('display.max_rows', 5000)\n",
    "# create a binary classification problem\n",
    "df_bin = df[df[\"Y\"] != 5.0].copy()\n",
    "df_bin.loc[df.Y == 0.0, \"Y\"] = int(0)\n",
    "df_bin.loc[df.Y == 10.0, \"Y\"] = int(1)\n",
    "\n",
    "train_percentage = 3.7/6\n",
    "train_samples = int(len(df_bin) * train_percentage)\n",
    "test_samples = len(df_bin) - train_samples\n",
    "\n",
    "train = df_bin[:train_samples]\n",
    "test = df_bin[-test_samples:]\n",
    "\n",
    "X_train = train.drop(\"Y\", axis=1)\n",
    "y_train = train[\"Y\"]\n",
    "\n",
    "X_test = test.drop([\"Y\"], axis=1)\n",
    "y_test = test[\"Y\"]\n",
    "\n",
    "print(X_train.shape, y_train.shape, X_test.shape, y_test.shape)"
   ]
  },
  {
   "cell_type": "markdown",
   "id": "adopted-proceeding",
   "metadata": {},
   "source": [
    "## Binary Classification"
   ]
  },
  {
   "cell_type": "code",
   "execution_count": 7,
   "id": "concrete-tuesday",
   "metadata": {
    "scrolled": true
   },
   "outputs": [],
   "source": [
    "def average(y_pred):\n",
    "    for i in range(len(y_pred)):\n",
    "        if i % len(y_pred) == 0 or (i+1) % len(y_pred) == 0:\n",
    "            pass\n",
    "        else: \n",
    "            average = float(y_pred[i-1] +  y_pred[i] + y_pred[i+1])/3\n",
    "            if average >= 0.5:\n",
    "                y_pred[i] = 1\n",
    "            else:\n",
    "                y_pred[i] = 0\n",
    "\n",
    "    return y_pred"
   ]
  },
  {
   "cell_type": "markdown",
   "id": "expired-piece",
   "metadata": {},
   "source": [
    "### KNN"
   ]
  },
  {
   "cell_type": "code",
   "execution_count": 8,
   "id": "victorian-casino",
   "metadata": {},
   "outputs": [
    {
     "data": {
      "text/plain": [
       "(11, 0.7608695652173914)"
      ]
     },
     "execution_count": 8,
     "metadata": {},
     "output_type": "execute_result"
    }
   ],
   "source": [
    "acc_KNN = []\n",
    "\n",
    "for i in range(1, 30):\n",
    "    neigh = KNeighborsClassifier(n_neighbors=i)\n",
    "    neigh.fit(X_train, y_train) \n",
    "    pred_KN = average(neigh.predict(X_test))\n",
    "    y_score = neigh.predict_proba(X_test)[:,1]\n",
    "    acc_KNN.append(accuracy_score(y_test, pred_KN))\n",
    "    \n",
    "acc_KNN.index(max(acc_KNN)) + 1, max(acc_KNN)"
   ]
  },
  {
   "cell_type": "markdown",
   "id": "local-simpson",
   "metadata": {},
   "source": [
    "### Random Forest"
   ]
  },
  {
   "cell_type": "code",
   "execution_count": 9,
   "id": "literary-tanzania",
   "metadata": {},
   "outputs": [
    {
     "data": {
      "text/plain": [
       "(6, 0.8021739130434783)"
      ]
     },
     "execution_count": 9,
     "metadata": {},
     "output_type": "execute_result"
    }
   ],
   "source": [
    "acc_RF = []\n",
    "max_depth = []\n",
    "\n",
    "for i in range(1, 10):\n",
    "    clf_RF = RandomForestClassifier(max_depth=i)\n",
    "    clf_RF.fit(X_train, y_train) \n",
    "    pred_RF = average(clf_RF.predict(X_test))\n",
    "    acc_RF.append(accuracy_score(pred_RF, y_test))\n",
    "    max_depth.append(i)\n",
    "    \n",
    "acc_RF.index(max(acc_RF)) + 1, max(acc_RF)"
   ]
  },
  {
   "cell_type": "markdown",
   "id": "exclusive-bloom",
   "metadata": {},
   "source": [
    "### SVM"
   ]
  },
  {
   "cell_type": "code",
   "execution_count": 10,
   "id": "operational-technique",
   "metadata": {},
   "outputs": [
    {
     "name": "stdout",
     "output_type": "stream",
     "text": [
      "0.6663043478260869\n"
     ]
    }
   ],
   "source": [
    "svm = SVC()\n",
    "svm.fit(X_train, y_train)\n",
    "pred_svm = svm.predict(X_test)\n",
    "pred_svm = average(pred_svm)\n",
    "\n",
    "print(accuracy_score(y_test, pred_svm))"
   ]
  },
  {
   "cell_type": "markdown",
   "id": "unnecessary-arthritis",
   "metadata": {},
   "source": [
    "## Multi-class Classification"
   ]
  },
  {
   "cell_type": "code",
   "execution_count": 11,
   "id": "nonprofit-midnight",
   "metadata": {
    "scrolled": true
   },
   "outputs": [
    {
     "name": "stdout",
     "output_type": "stream",
     "text": [
      "(2220, 4) (2220,) (1380, 4) (1380,)\n"
     ]
    }
   ],
   "source": [
    "df_multi = df.copy()\n",
    "df_multi.loc[df.Y == 0.0, \"Y\"] = int(0)\n",
    "df_multi.loc[df.Y == 5.0, \"Y\"] = int(1)\n",
    "df_multi.loc[df.Y == 10.0, \"Y\"] = int(2)\n",
    "\n",
    "split_percentage = 3.7 / 6\n",
    "train_samples = int(len(df_multi) * split_percentage)\n",
    "test_samples = len(df_multi) - train_samples\n",
    "\n",
    "train = df_multi[:train_samples]\n",
    "test = df_multi[-test_samples:]\n",
    "\n",
    "# training set\n",
    "X_train = train.drop(\"Y\", axis=1)\n",
    "y_train = train[\"Y\"]\n",
    "\n",
    "# testing set\n",
    "X_test = test.drop(\"Y\", axis=1)\n",
    "y_test = test[\"Y\"]\n",
    "\n",
    "# X = df_multi.loc[:, df_multi.columns != \"Y\"]\n",
    "# y = df_multi[\"Y\"]\n",
    "\n",
    "# X_train, X_test, y_train, y_test = train_test_split(X, y, train_size=(3.7/6))\n",
    "\n",
    "print(X_train.shape, y_train.shape, X_test.shape, y_test.shape)"
   ]
  },
  {
   "cell_type": "markdown",
   "id": "young-massage",
   "metadata": {},
   "source": [
    "### KNN"
   ]
  },
  {
   "cell_type": "code",
   "execution_count": 12,
   "id": "purple-tutorial",
   "metadata": {},
   "outputs": [
    {
     "data": {
      "text/plain": [
       "(3, 0.3847826086956522)"
      ]
     },
     "execution_count": 12,
     "metadata": {},
     "output_type": "execute_result"
    }
   ],
   "source": [
    "acc_knn = []\n",
    "\n",
    "for i in range(1,30):\n",
    "    neigh = KNeighborsClassifier(n_neighbors=i)\n",
    "    neigh.fit(X_train, y_train) \n",
    "    pred_KN = average(neigh.predict(X_test))\n",
    "    acc_knn.append(accuracy_score(y_test, pred_KN))\n",
    "    \n",
    "acc_knn.index(max(acc_knn)) + 1, max(acc_knn)"
   ]
  },
  {
   "cell_type": "markdown",
   "id": "senior-calendar",
   "metadata": {},
   "source": [
    "### Random Forest"
   ]
  },
  {
   "cell_type": "code",
   "execution_count": 13,
   "id": "straight-graphics",
   "metadata": {},
   "outputs": [
    {
     "data": {
      "text/plain": [
       "(4, 0.4449275362318841)"
      ]
     },
     "execution_count": 13,
     "metadata": {},
     "output_type": "execute_result"
    }
   ],
   "source": [
    "acc_RF = []\n",
    "max_depth = []\n",
    "\n",
    "for i in range(1, 10):\n",
    "    clf_RF = RandomForestClassifier(max_depth=i)\n",
    "    clf_RF.fit(X_train, y_train) \n",
    "    pred_RF = average(clf_RF.predict(X_test))\n",
    "    acc_RF.append(accuracy_score(pred_RF, y_test))\n",
    "    max_depth.append(i)\n",
    "    \n",
    "acc_RF.index(max(acc_RF)) + 1, max(acc_RF)"
   ]
  },
  {
   "cell_type": "markdown",
   "id": "urban-billy",
   "metadata": {},
   "source": [
    "### SVM"
   ]
  },
  {
   "cell_type": "code",
   "execution_count": 14,
   "id": "dominant-dylan",
   "metadata": {},
   "outputs": [
    {
     "name": "stdout",
     "output_type": "stream",
     "text": [
      "0.36666666666666664\n"
     ]
    }
   ],
   "source": [
    "svm = SVC(decision_function_shape=\"ovr\")\n",
    "\n",
    "svm.fit(X_train, y_train)\n",
    "pred_svm = svm.predict(X_test)\n",
    "pred_svm = average(pred_svm)\n",
    "\n",
    "print(accuracy_score(y_test, pred_svm))"
   ]
  },
  {
   "cell_type": "markdown",
   "id": "selective-shame",
   "metadata": {},
   "source": [
    "## CNN"
   ]
  },
  {
   "cell_type": "code",
   "execution_count": 15,
   "id": "standing-citizen",
   "metadata": {},
   "outputs": [
    {
     "data": {
      "text/plain": [
       "device(type='cuda')"
      ]
     },
     "execution_count": 15,
     "metadata": {},
     "output_type": "execute_result"
    }
   ],
   "source": [
    "device = torch.device('cuda') if torch.cuda.is_available() else torch.device('cpu')\n",
    "device"
   ]
  },
  {
   "cell_type": "code",
   "execution_count": 16,
   "id": "expired-terrorism",
   "metadata": {},
   "outputs": [],
   "source": [
    "new_dir = \"drowsy_vs_non_drowsy/\"\n",
    "\n",
    "if not os.path.isdir(new_dir):\n",
    "    os.mkdir(new_dir)\n",
    "    r = \"^frame_\\d{2}_5_\\d{1,3}.jpg$\"\n",
    "    \n",
    "    for img in os.listdir(\"images/\"):\n",
    "        if not re.match(r, img):\n",
    "            copy(\"images/\" + img, new_dir)"
   ]
  },
  {
   "cell_type": "code",
   "execution_count": 122,
   "id": "veterinary-mineral",
   "metadata": {},
   "outputs": [],
   "source": [
    "class DrowinessDataset(Dataset):\n",
    "    # 0.7/0.3 default split\n",
    "    def __init__(self, transform, train_split=0.7, mode=\"train\"):\n",
    "        if mode not in [\"train\", \"val\"]:\n",
    "            raise ValueError('Invalid Split %s' % mode)\n",
    "            \n",
    "        self.transform = transform\n",
    "        self.mode = mode\n",
    "        self.X = {}\n",
    "        self.y = {}\n",
    "        \n",
    "        r =  new_dir + \"frame_\\d{2}_0_\\d{1,3}.jpg$\"\n",
    "        samples = [new_dir + img for img in os.listdir(new_dir)]\n",
    "        labels = [0 if re.match(r, img) else 1 for img in samples]\n",
    "        \n",
    "        self.X[\"train\"], self.X[\"val\"], self.y[\"train\"], self.y[\"val\"] = train_test_split(\n",
    "            samples, labels, test_size=0.30, random_state=42, stratify=labels)\n",
    "        \n",
    "    def __len__(self):\n",
    "        return len(self.X[self.mode])\n",
    "    \n",
    "    def __getitem__(self, index):\n",
    "        img = Image.open(self.X[self.mode][index])\n",
    "        img = self.transform(img)\n",
    "        \n",
    "        return img, self.y[self.mode][index]"
   ]
  },
  {
   "cell_type": "code",
   "execution_count": 123,
   "id": "cooked-bailey",
   "metadata": {},
   "outputs": [],
   "source": [
    "tforms = transforms.Compose([transforms.Resize((256, 256)),\n",
    "                             transforms.ToTensor(),\n",
    "                             transforms.Normalize(mean=[0.485, 0.456, 0.406], std=[0.229, 0.224, 0.225])])\n",
    "\n",
    "train_set = DrowinessDataset(transform=tforms)\n",
    "train_dataloader = DataLoader(train_set, batch_size=8, shuffle=True)\n",
    "\n",
    "val_set = DrowinessDataset(transform=tforms, mode=\"val\")\n",
    "val_dataloader = DataLoader(val_set, batch_size=8, shuffle=False)"
   ]
  },
  {
   "cell_type": "code",
   "execution_count": 124,
   "id": "familiar-rendering",
   "metadata": {},
   "outputs": [],
   "source": [
    "class Net(nn.Module):\n",
    "    def __init__(self):\n",
    "        super(Net, self).__init__()\n",
    "        \n",
    "        self.conv1 = nn.Conv2d(in_channels=3, out_channels=5, padding=1, kernel_size=3)\n",
    "        self.conv2 = nn.Conv2d(in_channels=5, out_channels=10, padding=1, kernel_size=3)\n",
    "        self.conv_dropout = nn.Dropout2d(p=0.25)\n",
    "        \n",
    "        self.fc1 = nn.Linear(40960, 4096)\n",
    "        self.fc2 = nn.Linear(4096, 1)\n",
    "        self.fc_dropout = nn.Dropout(p=0.25)\n",
    "        \n",
    "        self.reset_params()\n",
    "        \n",
    "    def forward(self, x):\n",
    "        x = F.relu(F.max_pool2d(self.conv1(x), kernel_size=2))\n",
    "        x = self.conv_dropout(x)\n",
    "        x = F.relu(F.max_pool2d(self.conv2(x), kernel_size=2))\n",
    "        x = x.view(x.shape[0], -1)\n",
    "        x = F.relu(self.fc1(x))\n",
    "        x = self.fc_dropout(x)\n",
    "        x = torch.sigmoid(x)\n",
    "        x = torch.sigmoid(self.fc2(x))\n",
    "        \n",
    "        return x\n",
    "    \n",
    "    @staticmethod\n",
    "    def weights_init(m):\n",
    "        if isinstance(m, nn.Conv2d):\n",
    "            nn.init.xavier_normal_(m.weight)\n",
    "            nn.init.constant_(m.bias, 0)\n",
    "\n",
    "    def reset_params(self):\n",
    "        for i, m in enumerate(self.modules()):\n",
    "            self.weights_init(m)"
   ]
  },
  {
   "cell_type": "code",
   "execution_count": 126,
   "id": "exempt-bristol",
   "metadata": {},
   "outputs": [],
   "source": [
    "def training_loop(model, num_epochs, criterion, optimizer, metrics):\n",
    "    for epoch in range(num_epochs + 1):\n",
    "        train_loss, val_loss = [], []\n",
    "        correct, total = 0, 0\n",
    "\n",
    "        model.train()\n",
    "        for i, (imgs, labels) in enumerate(train_dataloader):\n",
    "            imgs, labels = imgs.to(device=device), labels.to(device=device, dtype=torch.float32)\n",
    "            optimizer.zero_grad()\n",
    "\n",
    "            output = model(imgs).T[0]\n",
    "\n",
    "            loss = criterion(output, labels)\n",
    "            loss.backward()\n",
    "            optimizer.step()\n",
    "\n",
    "            train_loss.append(loss.item())\n",
    "\n",
    "            predicted = torch.round(output)\n",
    "            total += labels.shape[0]\n",
    "            correct += int((predicted == labels).sum())\n",
    "            \n",
    "        train_acc = correct / total\n",
    "        metrics[\"train_loss\"].append(np.mean(train_loss))\n",
    "        metrics[\"train_acc\"].append(train_acc)\n",
    "        correct, total = 0, 0\n",
    "\n",
    "        model.eval()\n",
    "        for i, (imgs, labels) in enumerate(val_dataloader):\n",
    "            with torch.no_grad():\n",
    "                imgs, labels = imgs.to(device=device), labels.to(device=device, dtype=torch.float32)\n",
    "                \n",
    "                output = model(imgs).T[0]\n",
    "\n",
    "                loss = criterion(output, labels)\n",
    "                val_loss.append(loss.item())\n",
    "\n",
    "                predicted = torch.round(output)\n",
    "                total += labels.shape[0]\n",
    "                correct += int((predicted == labels).sum())\n",
    "\n",
    "        val_acc = correct / total\n",
    "        metrics[\"val_loss\"].append(np.mean(val_loss))\n",
    "        metrics[\"val_acc\"].append(val_acc)\n",
    "        \n",
    "        print(\"Epoch: {}, Train loss: {}, Train acc: {}, Val loss: {}, Val acc: {}\".format(\n",
    "            epoch, np.mean(train_loss), train_acc, np.mean(val_loss), val_acc))"
   ]
  },
  {
   "cell_type": "code",
   "execution_count": 127,
   "id": "departmental-sphere",
   "metadata": {},
   "outputs": [
    {
     "name": "stdout",
     "output_type": "stream",
     "text": [
      "Epoch: 0, Train loss: 0.05802762513714177, Train acc: 0.9863095238095239, Val loss: 0.011176064346606533, Val acc: 0.9958333333333333\n",
      "Epoch: 1, Train loss: 0.007139632766622873, Train acc: 0.9988095238095238, Val loss: 0.01375758661953215, Val acc: 0.9972222222222222\n",
      "Epoch: 2, Train loss: 0.004570832732133568, Train acc: 0.9982142857142857, Val loss: 0.013505196025006525, Val acc: 0.9972222222222222\n",
      "Epoch: 3, Train loss: 0.002137604061447616, Train acc: 0.9994047619047619, Val loss: 0.014066557851523005, Val acc: 0.9972222222222222\n",
      "Epoch: 4, Train loss: 0.0020130468554617393, Train acc: 0.9994047619047619, Val loss: 0.014386808647355389, Val acc: 0.9972222222222222\n",
      "Epoch: 5, Train loss: 0.0012265068771306514, Train acc: 1.0, Val loss: 0.013129880000997218, Val acc: 0.9972222222222222\n"
     ]
    }
   ],
   "source": [
    "model = Net().to(device)\n",
    "lr = 1e-4\n",
    "num_epochs = 5\n",
    "criterion = nn.BCELoss()\n",
    "optimizer = optim.Adam(model.parameters(), lr=lr)\n",
    "\n",
    "metrics = {\n",
    "    \"train_loss\": [],\n",
    "    \"val_loss\": [],\n",
    "    \"train_acc\": [],\n",
    "    \"val_acc\": []\n",
    "}\n",
    "\n",
    "training_loop(model, num_epochs, criterion, optimizer, metrics)"
   ]
  },
  {
   "cell_type": "code",
   "execution_count": 129,
   "id": "elegant-conservative",
   "metadata": {},
   "outputs": [
    {
     "data": {
      "image/png": "[encoded data removed]",
      "text/plain": [
       "<Figure size 432x288 with 1 Axes>"
      ]
     },
     "metadata": {
      "needs_background": "light"
     },
     "output_type": "display_data"
    },
    {
     "data": {
      "image/png": "[encoded data removed]",
      "text/plain": [
       "<Figure size 432x288 with 1 Axes>"
      ]
     },
     "metadata": {
      "needs_background": "light"
     },
     "output_type": "display_data"
    }
   ],
   "source": [
    "def plot_loss(metrics):\n",
    "    plt.plot(np.squeeze(metrics[\"train_loss\"]), '-b', label=\"train loss\")\n",
    "    plt.plot(np.squeeze(metrics[\"val_loss\"]), '-c', label=\"val loss\")\n",
    "    plt.legend(loc=\"upper right\")\n",
    "    plt.ylabel('loss')\n",
    "    plt.xlabel('epochs')\n",
    "    plt.title(\"training and validation loss per epoch\")\n",
    "    plt.show()\n",
    "    \n",
    "def plot_acc(metrics):\n",
    "    plt.plot(np.squeeze(metrics[\"train_acc\"]), '-b', label=\"train acc\")\n",
    "    plt.plot(np.squeeze(metrics[\"val_acc\"]), '-c', label=\"val acc\")\n",
    "    plt.legend(loc=\"lower right\")\n",
    "    plt.ylabel('acc')\n",
    "    plt.xlabel('epochs')\n",
    "    plt.title(\"training and validation acc per epoch\")\n",
    "    plt.show()\n",
    "\n",
    "plot_loss(metrics)\n",
    "plot_acc(metrics)"
   ]
  }
 ],
 "metadata": {
  "kernelspec": {
   "display_name": "Python 3",
   "language": "python",
   "name": "python3"
  },
  "language_info": {
   "codemirror_mode": {
    "name": "ipython",
    "version": 3
   },
   "file_extension": ".py",
   "mimetype": "text/x-python",
   "name": "python",
   "nbconvert_exporter": "python",
   "pygments_lexer": "ipython3",
   "version": "3.8.5"
  }
 },
 "nbformat": 4,
 "nbformat_minor": 5
}
